{
 "cells": [
  {
   "cell_type": "markdown",
   "metadata": {
    "id": "3fGqwyWhn3Bj"
   },
   "source": [
    "# 1) Impport the libraries"
   ]
  },
  {
   "cell_type": "code",
   "execution_count": 1,
   "metadata": {
    "colab": {
     "base_uri": "https://localhost:8080/"
    },
    "id": "MV_Fvqw2n4GG",
    "outputId": "07255230-bcdb-48ab-8940-335a9eb4ed7d"
   },
   "outputs": [
    {
     "name": "stdout",
     "output_type": "stream",
     "text": [
      "2.14.0\n"
     ]
    }
   ],
   "source": [
    "import tensorflow as tf\n",
    "print(tf.__version__)"
   ]
  },
  {
   "cell_type": "code",
   "execution_count": 12,
   "metadata": {
    "colab": {
     "base_uri": "https://localhost:8080/"
    },
    "id": "eya2sD3ZKXm1",
    "outputId": "07d71b07-f623-48e3-e25e-55895885f800"
   },
   "outputs": [],
   "source": [
    "# from google.colab import drive\n",
    "# drive.mount('/content/drive')"
   ]
  },
  {
   "cell_type": "code",
   "execution_count": 3,
   "metadata": {
    "id": "LRLOb-Ntn4Ig"
   },
   "outputs": [],
   "source": [
    "import gensim\n",
    "from gensim.models import Word2Vec, KeyedVectors"
   ]
  },
  {
   "cell_type": "markdown",
   "metadata": {
    "id": "dum09TbwoMdd"
   },
   "source": [
    "# 2) Data Preprocessing"
   ]
  },
  {
   "cell_type": "code",
   "execution_count": null,
   "metadata": {
    "id": "IhiTDbRQoNXN"
   },
   "outputs": [],
   "source": [
    "# google pretrained model\n",
    "\n",
    "# https://www.kaggle.com/umbertogriffo/googles-trained-word2vec-model-in-python"
   ]
  },
  {
   "cell_type": "code",
   "execution_count": null,
   "metadata": {
    "id": "E5qaZvIeoNaR"
   },
   "outputs": [],
   "source": [
    "# install kaggle API\n",
    "! pip install -q kaggle"
   ]
  },
  {
   "cell_type": "code",
   "execution_count": null,
   "metadata": {
    "id": "vbCWdojhoNc5"
   },
   "outputs": [],
   "source": [
    "# create a directory as kaggle\n",
    "! mkdir -p ~/.kaggle"
   ]
  },
  {
   "cell_type": "code",
   "execution_count": null,
   "metadata": {
    "id": "qqGhLnFNoNe2"
   },
   "outputs": [],
   "source": [
    "# copy API key to kaggle directory\n",
    "! cp kaggle.json ~/.kaggle"
   ]
  },
  {
   "cell_type": "code",
   "execution_count": null,
   "metadata": {
    "id": "e9F3g_xkoNho"
   },
   "outputs": [],
   "source": [
    "# disable the API key\n",
    "! chmod 600 /root/.kaggle/kaggle.json"
   ]
  },
  {
   "cell_type": "code",
   "execution_count": null,
   "metadata": {
    "colab": {
     "base_uri": "https://localhost:8080/",
     "height": 73
    },
    "id": "4ZxBwxJXoX-4",
    "outputId": "0da4ebc4-d78e-40c0-a4c8-08a9a725d7a7"
   },
   "outputs": [
    {
     "name": "stdout",
     "output_type": "stream",
     "text": [
      "Downloading googles-trained-word2vec-model-in-python.zip to /content\n",
      "100% 3.17G/3.17G [01:03<00:00, 57.9MB/s]\n",
      "100% 3.17G/3.17G [01:03<00:00, 53.6MB/s]\n"
     ]
    }
   ],
   "source": [
    "# import the dataset\n",
    "! kaggle datasets download -d umbertogriffo/googles-trained-word2vec-model-in-python"
   ]
  },
  {
   "cell_type": "code",
   "execution_count": null,
   "metadata": {
    "colab": {
     "base_uri": "https://localhost:8080/",
     "height": 73
    },
    "id": "CY-sGCLToYBc",
    "outputId": "dd133ec6-ed2c-47dc-ccd1-04f98bb1292b"
   },
   "outputs": [
    {
     "name": "stdout",
     "output_type": "stream",
     "text": [
      "Archive:  /content/googles-trained-word2vec-model-in-python.zip\n",
      "  inflating: GoogleNews-vectors-negative300.bin  \n",
      "  inflating: GoogleNews-vectors-negative300.bin.gz  \n"
     ]
    }
   ],
   "source": [
    "# unzip the dataset\n",
    "! unzip /content/googles-trained-word2vec-model-in-python"
   ]
  },
  {
   "cell_type": "markdown",
   "metadata": {
    "id": "nXDTMbm2o2SF"
   },
   "source": [
    "# 3) Build the model"
   ]
  },
  {
   "cell_type": "code",
   "execution_count": 5,
   "metadata": {
    "colab": {
     "base_uri": "https://localhost:8080/",
     "height": 75
    },
    "id": "94q1L1jCoYGo",
    "outputId": "f827012a-7d44-4f2a-87c6-db2a265fa2f7"
   },
   "outputs": [],
   "source": [
    "model = KeyedVectors.load_word2vec_format('GoogleNews-vectors-negative300.bin', binary=True, limit=100000)"
   ]
  },
  {
   "cell_type": "markdown",
   "metadata": {
    "id": "Trl53YMUqBa3"
   },
   "source": [
    "# 4) Predict the output"
   ]
  },
  {
   "cell_type": "code",
   "execution_count": 6,
   "metadata": {
    "colab": {
     "base_uri": "https://localhost:8080/",
     "height": 262
    },
    "id": "nIs85s2AqCZG",
    "outputId": "7c0fade4-9a1c-42c4-9690-0c096868b799"
   },
   "outputs": [
    {
     "data": {
      "text/plain": [
       "[('woman', 0.7664012908935547),\n",
       " ('boy', 0.6824871301651001),\n",
       " ('teenager', 0.6586930155754089),\n",
       " ('teenage_girl', 0.6147903203964233),\n",
       " ('girl', 0.5921714305877686),\n",
       " ('robber', 0.5585118532180786),\n",
       " ('teen_ager', 0.5549196004867554),\n",
       " ('men', 0.5489763021469116),\n",
       " ('guy', 0.5420035719871521),\n",
       " ('person', 0.5342026352882385)]"
      ]
     },
     "execution_count": 6,
     "metadata": {},
     "output_type": "execute_result"
    }
   ],
   "source": [
    "# find 10 closest words in the vector space that we have created\n",
    "model.most_similar('man')"
   ]
  },
  {
   "cell_type": "code",
   "execution_count": 7,
   "metadata": {
    "colab": {
     "base_uri": "https://localhost:8080/",
     "height": 36
    },
    "id": "e3mnVjCCqCbw",
    "outputId": "d4add3f6-04fc-4ea3-b08b-b8dc8528a178"
   },
   "outputs": [
    {
     "data": {
      "text/plain": [
       "300"
      ]
     },
     "execution_count": 7,
     "metadata": {},
     "output_type": "execute_result"
    }
   ],
   "source": [
    "# see the vector\n",
    "len(model['man'])\n",
    "\n",
    "# so this is how man is represented in our vector space"
   ]
  },
  {
   "cell_type": "code",
   "execution_count": 9,
   "metadata": {
    "colab": {
     "base_uri": "https://localhost:8080/",
     "height": 262
    },
    "id": "zjBCVKGCqCe8",
    "outputId": "ca308487-039a-49d5-fd35-53838e295bbf"
   },
   "outputs": [
    {
     "data": {
      "text/plain": [
       "[('king', 0.6478992104530334),\n",
       " ('queen', 0.5354937314987183),\n",
       " ('women', 0.5233659148216248),\n",
       " ('kings', 0.5162314176559448),\n",
       " ('queens', 0.4995364248752594),\n",
       " ('princes', 0.46233272552490234),\n",
       " ('monarch', 0.45280298590660095),\n",
       " ('monarchy', 0.4293173849582672),\n",
       " ('crown_prince', 0.42302510142326355),\n",
       " ('womens', 0.41756653785705566)]"
      ]
     },
     "execution_count": 9,
     "metadata": {},
     "output_type": "execute_result"
    }
   ],
   "source": [
    "# let us try the famous relationship\n",
    "vec = model['king'] - model['man'] + model['women']\n",
    "model.most_similar([vec])"
   ]
  },
  {
   "cell_type": "code",
   "execution_count": 10,
   "metadata": {
    "colab": {
     "base_uri": "https://localhost:8080/",
     "height": 262
    },
    "id": "H-150DnQqChB",
    "outputId": "a18d12aa-f23f-4bd5-8dd3-5fb8e49ff0b3"
   },
   "outputs": [
    {
     "data": {
      "text/plain": [
       "[('France', 0.7724406123161316),\n",
       " ('Paris', 0.6798243522644043),\n",
       " ('Belgium', 0.5984860062599182),\n",
       " ('Germany', 0.5652832984924316),\n",
       " ('Spain', 0.550815761089325),\n",
       " ('Italy', 0.5462924838066101),\n",
       " ('Marseille', 0.5372346639633179),\n",
       " ('Switzerland', 0.5364957451820374),\n",
       " ('French', 0.5346113443374634),\n",
       " ('Morocco', 0.5051252245903015)]"
      ]
     },
     "execution_count": 10,
     "metadata": {},
     "output_type": "execute_result"
    }
   ],
   "source": [
    "# Relationship\n",
    "vec = model['Germany'] - model['Berlin'] + model['Paris']\n",
    "model.most_similar([vec])"
   ]
  },
  {
   "cell_type": "code",
   "execution_count": 11,
   "metadata": {
    "colab": {
     "base_uri": "https://localhost:8080/",
     "height": 262
    },
    "id": "gQ-9rTIwqCjW",
    "outputId": "2487edbd-c845-4999-92ce-39f125e49d92"
   },
   "outputs": [
    {
     "data": {
      "text/plain": [
       "[('Messi', 0.7382575273513794),\n",
       " ('Sehwag', 0.677745521068573),\n",
       " ('Tendulkar', 0.6748222708702087),\n",
       " ('Xavi', 0.6610832810401917),\n",
       " ('Dravid', 0.6569646596908569),\n",
       " ('Dhoni', 0.6550688147544861),\n",
       " ('Lionel_Messi', 0.6407608389854431),\n",
       " ('Forlan', 0.640610933303833),\n",
       " ('Yuvraj', 0.6390379667282104),\n",
       " ('Ponting', 0.6390198469161987)]"
      ]
     },
     "execution_count": 11,
     "metadata": {},
     "output_type": "execute_result"
    }
   ],
   "source": [
    "# Relationship\n",
    "\n",
    "vec = model['Messi'] - model['Football'] + model['Cricket']\n",
    "model.most_similar([vec])"
   ]
  },
  {
   "cell_type": "code",
   "execution_count": null,
   "metadata": {},
   "outputs": [],
   "source": []
  }
 ],
 "metadata": {
  "colab": {
   "provenance": []
  },
  "kernelspec": {
   "display_name": "Python 3 (ipykernel)",
   "language": "python",
   "name": "python3"
  },
  "language_info": {
   "codemirror_mode": {
    "name": "ipython",
    "version": 3
   },
   "file_extension": ".py",
   "mimetype": "text/x-python",
   "name": "python",
   "nbconvert_exporter": "python",
   "pygments_lexer": "ipython3",
   "version": "3.11.5"
  }
 },
 "nbformat": 4,
 "nbformat_minor": 1
}
