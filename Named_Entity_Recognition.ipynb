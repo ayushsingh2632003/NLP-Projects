{
  "nbformat": 4,
  "nbformat_minor": 0,
  "metadata": {
    "colab": {
      "provenance": [],
      "include_colab_link": true
    },
    "kernelspec": {
      "name": "python3",
      "display_name": "Python 3"
    }
  },
  "cells": [
    {
      "cell_type": "markdown",
      "metadata": {
        "id": "view-in-github",
        "colab_type": "text"
      },
      "source": [
        "<a href=\"https://colab.research.google.com/github/ayushsingh2632003/NLP-Projects/blob/main/Named_Entity_Recognition.ipynb\" target=\"_parent\"><img src=\"https://colab.research.google.com/assets/colab-badge.svg\" alt=\"Open In Colab\"/></a>"
      ]
    },
    {
      "cell_type": "markdown",
      "metadata": {
        "id": "XkG3HwP_bQq3"
      },
      "source": [
        "# 1) Basics of Named Entity Recognition"
      ]
    },
    {
      "cell_type": "markdown",
      "metadata": {
        "id": "mSyz-NMSbVNw"
      },
      "source": [
        "Named Entity Recognition is a subtask of information extraction that classify named entities into pre-defined categories such as names of persons, organizations, locations\n",
        "\n",
        "spaCy features an extremely fast statistical entity recognition system, that assigns labels to contiguous spans of tokens\n",
        "\n",
        "The default model identifies a variety of named and numeric entities, including companies, locations, organizations and products"
      ]
    },
    {
      "cell_type": "code",
      "metadata": {
        "id": "6leZUM06YGBq"
      },
      "source": [
        "# officaial documentation\n",
        "# https://spacy.io/usage/linguistic-features/#named-entities\n"
      ],
      "execution_count": null,
      "outputs": []
    },
    {
      "cell_type": "code",
      "metadata": {
        "id": "hLaxb0FrUgk0"
      },
      "source": [
        "# Import spaCy\n",
        "import spacy"
      ],
      "execution_count": null,
      "outputs": []
    },
    {
      "cell_type": "code",
      "metadata": {
        "id": "CLgvvWbc_EMS"
      },
      "source": [
        "# load the English language library\n",
        "nlp = spacy.load(name='en_core_web_sm')"
      ],
      "execution_count": null,
      "outputs": []
    },
    {
      "cell_type": "code",
      "metadata": {
        "id": "LkQthSvc_FX5"
      },
      "source": [
        "# Create a simple doc object\n",
        "doc = nlp(\"Apple is looking at buying U.K. startup for $1 billion\")"
      ],
      "execution_count": null,
      "outputs": []
    },
    {
      "cell_type": "code",
      "metadata": {
        "id": "6EFOdItIVH7a",
        "colab": {
          "base_uri": "https://localhost:8080/",
          "height": 67
        },
        "outputId": "6b5a351b-f229-4345-9781-bff73e107d0a"
      },
      "source": [
        "for ent in doc.ents:\n",
        "    print(ent.text, ent.start_char, ent.end_char, ent.label_, str(spacy.explain(ent.label_)))"
      ],
      "execution_count": null,
      "outputs": [
        {
          "output_type": "stream",
          "text": [
            "Apple 0 5 ORG Companies, agencies, institutions, etc.\n",
            "U.K. 27 31 GPE Countries, cities, states\n",
            "$1 billion 44 54 MONEY Monetary values, including unit\n"
          ],
          "name": "stdout"
        }
      ]
    },
    {
      "cell_type": "code",
      "metadata": {
        "id": "jx3tVFL2XmVz"
      },
      "source": [
        "# Create another doc object\n",
        "doc_2 = nlp(\"San Francisco considers banning sidewalk delivery robots\")"
      ],
      "execution_count": null,
      "outputs": []
    },
    {
      "cell_type": "code",
      "metadata": {
        "id": "HNuFuvSLXvxr",
        "colab": {
          "base_uri": "https://localhost:8080/",
          "height": 34
        },
        "outputId": "4a1d0689-db2b-4779-969e-37fb354cf11c"
      },
      "source": [
        "for ent in doc_2.ents:\n",
        "    print(ent.text, ent.start_char, ent.end_char, ent.label_, str(spacy.explain(ent.label_)))"
      ],
      "execution_count": null,
      "outputs": [
        {
          "output_type": "stream",
          "text": [
            "San Francisco 0 13 GPE Countries, cities, states\n"
          ],
          "name": "stdout"
        }
      ]
    },
    {
      "cell_type": "markdown",
      "metadata": {
        "id": "OtQdLE7QYY3Z"
      },
      "source": [
        "# 2) Adding Named Entity to Span"
      ]
    },
    {
      "cell_type": "code",
      "metadata": {
        "id": "oPAoXWlRYbd5"
      },
      "source": [
        "doc_3 = nlp(\"facebook is hiring a new vice president in U.S.\")"
      ],
      "execution_count": null,
      "outputs": []
    },
    {
      "cell_type": "code",
      "metadata": {
        "id": "sqPQStshZCnh",
        "colab": {
          "base_uri": "https://localhost:8080/",
          "height": 34
        },
        "outputId": "738ee7a7-90d4-4319-d9c4-2aeb4664b4f9"
      },
      "source": [
        "for ent in doc_3.ents:\n",
        "    print(ent.text, ent.label_, str(spacy.explain(ent.label_)))"
      ],
      "execution_count": null,
      "outputs": [
        {
          "output_type": "stream",
          "text": [
            "U.S. GPE Countries, cities, states\n"
          ],
          "name": "stdout"
        }
      ]
    },
    {
      "cell_type": "code",
      "metadata": {
        "id": "bxCtW38MZxgT"
      },
      "source": [
        "# We will add Facebook as Named Entity"
      ],
      "execution_count": null,
      "outputs": []
    },
    {
      "cell_type": "code",
      "metadata": {
        "id": "HIfjy4wNaN_u"
      },
      "source": [
        "from spacy.tokens import Span"
      ],
      "execution_count": null,
      "outputs": []
    },
    {
      "cell_type": "code",
      "metadata": {
        "id": "cVUb4_y6aSdI",
        "colab": {
          "base_uri": "https://localhost:8080/",
          "height": 34
        },
        "outputId": "747ef4c2-3525-4eb9-8fcb-b47a3c828af3"
      },
      "source": [
        "# Get the hash value of ORG entity label\n",
        "ORG = doc_3.vocab.strings['ORG']\n",
        "print(ORG)"
      ],
      "execution_count": null,
      "outputs": [
        {
          "output_type": "stream",
          "text": [
            "383\n"
          ],
          "name": "stdout"
        }
      ]
    },
    {
      "cell_type": "code",
      "metadata": {
        "id": "Jn_mWXC4aUZv"
      },
      "source": [
        "# Create a Span for new entity\n",
        "new_ent = Span(doc_3, 0, 1, label=ORG)\n",
        "# Index locations from 0 to 1 (excludes 1)"
      ],
      "execution_count": null,
      "outputs": []
    },
    {
      "cell_type": "code",
      "metadata": {
        "id": "sc9WJmAFaViZ"
      },
      "source": [
        "# Add the entity to the existing Doc object\n",
        "doc_3.ents = list(doc_3.ents) + [new_ent]"
      ],
      "execution_count": null,
      "outputs": []
    },
    {
      "cell_type": "code",
      "metadata": {
        "id": "VmwR3Qi8a76t",
        "colab": {
          "base_uri": "https://localhost:8080/",
          "height": 50
        },
        "outputId": "df71c2cd-50c4-427a-bd9c-5adecdbc4ed7"
      },
      "source": [
        "for ent in doc_3.ents:\n",
        "    print(ent.text, ent.label_, str(spacy.explain(ent.label_)))"
      ],
      "execution_count": null,
      "outputs": [
        {
          "output_type": "stream",
          "text": [
            "facebook ORG Companies, agencies, institutions, etc.\n",
            "U.S. GPE Countries, cities, states\n"
          ],
          "name": "stdout"
        }
      ]
    },
    {
      "cell_type": "markdown",
      "metadata": {
        "id": "ojSF7HyU5O3I"
      },
      "source": [
        "# 3) Visualizing Named Entities"
      ]
    },
    {
      "cell_type": "code",
      "metadata": {
        "id": "C3T03Lqv5QfX"
      },
      "source": [
        "# Import spaCy\n",
        "import spacy\n",
        "# load the English language library\n",
        "nlp = spacy.load(name='en_core_web_sm')\n",
        "# Import the displaCy library\n",
        "from spacy import displacy"
      ],
      "execution_count": null,
      "outputs": []
    },
    {
      "cell_type": "code",
      "metadata": {
        "id": "GhzHpYhY5T80"
      },
      "source": [
        "doc = nlp(\"Apple is looking at buying U.K. startup for $1 billion\")"
      ],
      "execution_count": null,
      "outputs": []
    },
    {
      "cell_type": "code",
      "metadata": {
        "id": "KECwGAYs5aWI",
        "colab": {
          "base_uri": "https://localhost:8080/",
          "height": 51
        },
        "outputId": "5f146953-5cb6-4015-cbf0-369a60a5143d"
      },
      "source": [
        "displacy.render(docs=doc,style='ent',jupyter=True)"
      ],
      "execution_count": null,
      "outputs": [
        {
          "output_type": "display_data",
          "data": {
            "text/html": [
              "<span class=\"tex2jax_ignore\"><div class=\"entities\" style=\"line-height: 2.5; direction: ltr\">\n",
              "<mark class=\"entity\" style=\"background: #7aecec; padding: 0.45em 0.6em; margin: 0 0.25em; line-height: 1; border-radius: 0.35em;\">\n",
              "    Apple\n",
              "    <span style=\"font-size: 0.8em; font-weight: bold; line-height: 1; border-radius: 0.35em; text-transform: uppercase; vertical-align: middle; margin-left: 0.5rem\">ORG</span>\n",
              "</mark>\n",
              " is looking at buying \n",
              "<mark class=\"entity\" style=\"background: #feca74; padding: 0.45em 0.6em; margin: 0 0.25em; line-height: 1; border-radius: 0.35em;\">\n",
              "    U.K.\n",
              "    <span style=\"font-size: 0.8em; font-weight: bold; line-height: 1; border-radius: 0.35em; text-transform: uppercase; vertical-align: middle; margin-left: 0.5rem\">GPE</span>\n",
              "</mark>\n",
              " startup for \n",
              "<mark class=\"entity\" style=\"background: #e4e7d2; padding: 0.45em 0.6em; margin: 0 0.25em; line-height: 1; border-radius: 0.35em;\">\n",
              "    $1 billion\n",
              "    <span style=\"font-size: 0.8em; font-weight: bold; line-height: 1; border-radius: 0.35em; text-transform: uppercase; vertical-align: middle; margin-left: 0.5rem\">MONEY</span>\n",
              "</mark>\n",
              "</div></span>"
            ],
            "text/plain": [
              "<IPython.core.display.HTML object>"
            ]
          },
          "metadata": {
            "tags": []
          }
        }
      ]
    },
    {
      "cell_type": "code",
      "metadata": {
        "id": "pJEm7ewU5a1i",
        "colab": {
          "base_uri": "https://localhost:8080/",
          "height": 51
        },
        "outputId": "9ae07c60-2fc1-4fa0-b857-356c932470b2"
      },
      "source": [
        "# Viewing Specific Entities\n",
        "options = {'ents': ['ORG', 'MONEY']}\n",
        "displacy.render(docs=doc,style='ent',jupyter=True,options=options)"
      ],
      "execution_count": null,
      "outputs": [
        {
          "output_type": "display_data",
          "data": {
            "text/html": [
              "<span class=\"tex2jax_ignore\"><div class=\"entities\" style=\"line-height: 2.5; direction: ltr\">\n",
              "<mark class=\"entity\" style=\"background: #7aecec; padding: 0.45em 0.6em; margin: 0 0.25em; line-height: 1; border-radius: 0.35em;\">\n",
              "    Apple\n",
              "    <span style=\"font-size: 0.8em; font-weight: bold; line-height: 1; border-radius: 0.35em; text-transform: uppercase; vertical-align: middle; margin-left: 0.5rem\">ORG</span>\n",
              "</mark>\n",
              " is looking at buying U.K. startup for \n",
              "<mark class=\"entity\" style=\"background: #e4e7d2; padding: 0.45em 0.6em; margin: 0 0.25em; line-height: 1; border-radius: 0.35em;\">\n",
              "    $1 billion\n",
              "    <span style=\"font-size: 0.8em; font-weight: bold; line-height: 1; border-radius: 0.35em; text-transform: uppercase; vertical-align: middle; margin-left: 0.5rem\">MONEY</span>\n",
              "</mark>\n",
              "</div></span>"
            ],
            "text/plain": [
              "<IPython.core.display.HTML object>"
            ]
          },
          "metadata": {
            "tags": []
          }
        }
      ]
    }
  ]
}