{
  "nbformat": 4,
  "nbformat_minor": 0,
  "metadata": {
    "colab": {
      "provenance": [],
      "include_colab_link": true
    },
    "kernelspec": {
      "name": "python3",
      "display_name": "Python 3"
    }
  },
  "cells": [
    {
      "cell_type": "markdown",
      "metadata": {
        "id": "view-in-github",
        "colab_type": "text"
      },
      "source": [
        "<a href=\"https://colab.research.google.com/github/ayushsingh2632003/NLP-Projects/blob/main/Stemming_and_Lemmatization%2Cstopwords.ipynb\" target=\"_parent\"><img src=\"https://colab.research.google.com/assets/colab-badge.svg\" alt=\"Open In Colab\"/></a>"
      ]
    },
    {
      "cell_type": "markdown",
      "metadata": {
        "id": "TNcphyUxXvow"
      },
      "source": [
        "## Stemming and Lemmatization"
      ]
    },
    {
      "cell_type": "code",
      "source": [
        "from google.colab import drive\n",
        "drive.mount('/content/drive')"
      ],
      "metadata": {
        "colab": {
          "base_uri": "https://localhost:8080/"
        },
        "id": "Pfs1lhOjmtwd",
        "outputId": "e39f6943-b3a8-41c0-c3d5-afa7e81aa4c3"
      },
      "execution_count": 1,
      "outputs": [
        {
          "output_type": "stream",
          "name": "stdout",
          "text": [
            "Mounted at /content/drive\n"
          ]
        }
      ]
    },
    {
      "cell_type": "markdown",
      "metadata": {
        "id": "f3IuWkK0hTYv"
      },
      "source": [
        "Playing\n",
        "Play   \n",
        "Played\n",
        "\n",
        "=> Play"
      ]
    },
    {
      "cell_type": "code",
      "metadata": {
        "id": "HTx_Asm6XwsV"
      },
      "source": [
        "words = ['run','runner','running','ran','runs','easily','fairly']"
      ],
      "execution_count": 2,
      "outputs": []
    },
    {
      "cell_type": "code",
      "metadata": {
        "id": "3uQQZyfRh5cG"
      },
      "source": [
        "import nltk"
      ],
      "execution_count": 3,
      "outputs": []
    },
    {
      "cell_type": "code",
      "metadata": {
        "id": "8wpXkqgFh9le"
      },
      "source": [
        "from nltk.stem.porter import PorterStemmer\n",
        "from nltk.stem.snowball import  SnowballStemmer"
      ],
      "execution_count": 4,
      "outputs": []
    },
    {
      "cell_type": "code",
      "metadata": {
        "id": "WaiuXm4NiOw1"
      },
      "source": [
        "p_stemmer = PorterStemmer()\n",
        "s_stemmer = SnowballStemmer(language='english')"
      ],
      "execution_count": 5,
      "outputs": []
    },
    {
      "cell_type": "code",
      "metadata": {
        "id": "mjAS8rxtieiW",
        "colab": {
          "base_uri": "https://localhost:8080/"
        },
        "outputId": "e5225498-b839-4a6b-fdc7-9dc69442e900"
      },
      "source": [
        "for word in words:\n",
        "  print(word + ' ------  ' +p_stemmer.stem(word))"
      ],
      "execution_count": 6,
      "outputs": [
        {
          "output_type": "stream",
          "name": "stdout",
          "text": [
            "run ------  run\n",
            "runner ------  runner\n",
            "running ------  run\n",
            "ran ------  ran\n",
            "runs ------  run\n",
            "easily ------  easili\n",
            "fairly ------  fairli\n"
          ]
        }
      ]
    },
    {
      "cell_type": "code",
      "metadata": {
        "id": "t7nMUaiSi2AO",
        "colab": {
          "base_uri": "https://localhost:8080/"
        },
        "outputId": "0cc6eeb6-f6fa-4d00-ce02-2dd404ea0ad1"
      },
      "source": [
        "for word in words:\n",
        "  print(word + ' ------  ' +s_stemmer.stem(word))"
      ],
      "execution_count": 7,
      "outputs": [
        {
          "output_type": "stream",
          "name": "stdout",
          "text": [
            "run ------  run\n",
            "runner ------  runner\n",
            "running ------  run\n",
            "ran ------  ran\n",
            "runs ------  run\n",
            "easily ------  easili\n",
            "fairly ------  fair\n"
          ]
        }
      ]
    },
    {
      "cell_type": "markdown",
      "metadata": {
        "id": "qGBsewbcjKF3"
      },
      "source": [
        "### Lemmatization"
      ]
    },
    {
      "cell_type": "code",
      "metadata": {
        "id": "uHIVmMBSjNCo"
      },
      "source": [
        "import spacy\n",
        "nlp = spacy.load('en_core_web_sm')"
      ],
      "execution_count": 8,
      "outputs": []
    },
    {
      "cell_type": "code",
      "metadata": {
        "id": "rVdCgJRtjQoW"
      },
      "source": [
        "doc1 = nlp(\"The striped bats are hanging on their feet for best\")"
      ],
      "execution_count": 9,
      "outputs": []
    },
    {
      "cell_type": "code",
      "metadata": {
        "id": "6h7EcdHSjkMX",
        "colab": {
          "base_uri": "https://localhost:8080/"
        },
        "outputId": "d35b5126-c9fd-4769-9887-da3132de00e6"
      },
      "source": [
        "for token in doc1:\n",
        "  print(token.text, '\\t', token.lemma_)"
      ],
      "execution_count": 10,
      "outputs": [
        {
          "output_type": "stream",
          "name": "stdout",
          "text": [
            "The \t the\n",
            "striped \t stripe\n",
            "bats \t bat\n",
            "are \t be\n",
            "hanging \t hang\n",
            "on \t on\n",
            "their \t their\n",
            "feet \t foot\n",
            "for \t for\n",
            "best \t good\n"
          ]
        }
      ]
    },
    {
      "cell_type": "code",
      "metadata": {
        "id": "1j5yTHz0kDIz",
        "colab": {
          "base_uri": "https://localhost:8080/"
        },
        "outputId": "bb91dfd5-6758-441c-c689-50fd2fff34eb"
      },
      "source": [
        "s1 = \"The striped bats are hanging on their feet for best\"\n",
        "for word in s1.split():\n",
        "  print(word + ' ------  ' +p_stemmer.stem(word))"
      ],
      "execution_count": 11,
      "outputs": [
        {
          "output_type": "stream",
          "name": "stdout",
          "text": [
            "The ------  the\n",
            "striped ------  stripe\n",
            "bats ------  bat\n",
            "are ------  are\n",
            "hanging ------  hang\n",
            "on ------  on\n",
            "their ------  their\n",
            "feet ------  feet\n",
            "for ------  for\n",
            "best ------  best\n"
          ]
        }
      ]
    },
    {
      "cell_type": "code",
      "source": [
        "import spacy\n",
        "nlp = spacy.load('en_core_web_sm')"
      ],
      "metadata": {
        "id": "WGrWHp43uSla"
      },
      "execution_count": 12,
      "outputs": []
    },
    {
      "cell_type": "code",
      "source": [
        "print(nlp.Defaults.stop_words)"
      ],
      "metadata": {
        "colab": {
          "base_uri": "https://localhost:8080/"
        },
        "id": "UYw5uNOVuqb8",
        "outputId": "8b9aecdb-125b-4838-d037-24387778c85f"
      },
      "execution_count": 13,
      "outputs": [
        {
          "output_type": "stream",
          "name": "stdout",
          "text": [
            "{'even', 'sometimes', 'many', 'six', 'mine', 'the', 'against', 'him', 'her', 'you', 'which', 'my', 'every', 'whereafter', 'will', 'please', 'since', 'twelve', 'whereas', 'whom', 'they', 'go', 'top', '’ll', 'thereupon', 'only', 'noone', 'seems', 'that', \"'m\", 'has', 'with', 'whither', 'she', 'those', 'too', 'a', 'unless', 'enough', 'latter', 'under', 'i', \"n't\", 'already', 'often', 'thus', 'bottom', 'empty', 'much', 'around', 'various', \"'d\", 'because', 'whether', 'yourself', 'cannot', 'quite', 'although', 'made', 'seemed', 'we', 'our', 'off', 'one', 'five', 'thru', 'used', 'just', 'else', 'becoming', 'out', 'part', 'whenever', 'beyond', \"'re\", 'nevertheless', 'more', 'amongst', 'everyone', 'whatever', 'back', 'their', 'either', 'his', '’ve', 'fifteen', 'next', 'really', 'never', 'through', 'thereafter', 'amount', 'therein', 'always', 'n’t', 'nobody', 'none', 'least', 'show', 'namely', 'wherein', 'rather', 'of', 'wherever', 'less', 'done', 'must', 'are', 'anyway', 'without', 'nowhere', 'eleven', 'other', 'this', 'mostly', 'hence', \"'ve\", 'becomes', 'after', 'others', 'third', 'call', 'eight', 'should', 'see', 'anywhere', 'then', 'am', 'another', 'perhaps', '‘d', 'alone', 'who', 'it', 'well', 'but', 'hundred', 'still', 'itself', 'somehow', 'doing', 'how', 'in', 'ten', 'some', 'could', 'anything', 'everything', 'from', 'elsewhere', 'does', 'also', 'if', 'were', 'own', 'upon', 'these', 'though', 'thence', 'very', 'nine', 'each', 'ours', 'where', 'being', 'below', 'regarding', 'here', '’d', 'until', 'toward', 'something', 'name', 'towards', 'between', 'during', '’s', 'afterwards', 'by', 'what', 'myself', 'same', 'whence', 'three', 'fifty', 'its', 'would', 'moreover', 'nor', '‘ll', 'is', 'into', '’re', 'and', 'nothing', 'himself', 'when', 'became', 'indeed', 'somewhere', 'have', 'last', 'for', 'than', 'he', 'on', 'otherwise', 'anyone', 'your', 'herself', 'did', 'further', 'front', 'neither', 'us', 'above', \"'s\", 'almost', 'get', 'beforehand', 'now', 'someone', 'up', 'hereafter', 'beside', 'may', 're', 'except', 'themselves', 'via', 'an', 'former', 'along', 'to', 'whereupon', 'however', 'onto', 'among', 'few', '‘ve', 'at', 'keep', 'throughout', 'everywhere', 'not', 'become', 'any', 'herein', 'seem', 'as', 'them', 'so', 'no', 'both', 'whose', 'can', 'besides', 'within', 'thereby', 'hers', 'several', 'there', 'sometime', 'twenty', 'ourselves', 'give', 'four', 'behind', 'meanwhile', 'say', 'or', 'across', 'two', 'why', 'down', 'whereby', 'before', 'do', 'been', 'sixty', 'move', 'full', 'due', 'hereupon', 'yet', 'therefore', '‘m', 'ever', 'over', 'whoever', 'hereby', 'had', 'whole', 'together', '’m', 'ca', 'most', 'take', 'again', 'side', 'make', 'me', 'all', 'once', 'put', '‘re', 'formerly', 'n‘t', 'anyhow', 'while', 'be', 'first', 'latterly', 'yourselves', 'using', 'might', 'serious', 'about', 'seeming', 'per', 'forty', '‘s', 'such', 'yours', \"'ll\", 'was'}\n"
          ]
        }
      ]
    },
    {
      "cell_type": "code",
      "source": [
        "len(nlp.Defaults.stop_words)"
      ],
      "metadata": {
        "colab": {
          "base_uri": "https://localhost:8080/"
        },
        "id": "qMN2yXXGxvlh",
        "outputId": "f680098c-14fb-45c3-ca45-a63e0b32bd8e"
      },
      "execution_count": 14,
      "outputs": [
        {
          "output_type": "execute_result",
          "data": {
            "text/plain": [
              "326"
            ]
          },
          "metadata": {},
          "execution_count": 14
        }
      ]
    },
    {
      "cell_type": "code",
      "source": [
        "nlp.vocab['always'].is_stop"
      ],
      "metadata": {
        "colab": {
          "base_uri": "https://localhost:8080/"
        },
        "id": "lgrCplhrxz44",
        "outputId": "db37c181-bca9-4263-a5a1-56e9a074aa90"
      },
      "execution_count": 15,
      "outputs": [
        {
          "output_type": "execute_result",
          "data": {
            "text/plain": [
              "True"
            ]
          },
          "metadata": {},
          "execution_count": 15
        }
      ]
    },
    {
      "cell_type": "code",
      "source": [
        "#add a random stopword to this stopwords lists ?\n"
      ],
      "metadata": {
        "id": "9n-t880Ex7P1"
      },
      "execution_count": 16,
      "outputs": []
    },
    {
      "cell_type": "code",
      "source": [
        "nlp.Defaults.stop_words.add('asdf')"
      ],
      "metadata": {
        "id": "6jeW-ThryHks"
      },
      "execution_count": 17,
      "outputs": []
    },
    {
      "cell_type": "code",
      "source": [
        "nlp.vocab['asdf'].is_stop=True"
      ],
      "metadata": {
        "id": "5B9cxV6HzKqV"
      },
      "execution_count": 20,
      "outputs": []
    },
    {
      "cell_type": "code",
      "source": [
        "nlp.vocab['asdf'].is_stop"
      ],
      "metadata": {
        "colab": {
          "base_uri": "https://localhost:8080/"
        },
        "id": "J2c_L8zSzWYS",
        "outputId": "a5f55021-fc44-490b-a3ec-be2081a107eb"
      },
      "execution_count": 21,
      "outputs": [
        {
          "output_type": "execute_result",
          "data": {
            "text/plain": [
              "True"
            ]
          },
          "metadata": {},
          "execution_count": 21
        }
      ]
    },
    {
      "cell_type": "code",
      "source": [
        "# remove the existing stopword"
      ],
      "metadata": {
        "id": "ZX8acb3CzpI9"
      },
      "execution_count": 22,
      "outputs": []
    },
    {
      "cell_type": "code",
      "source": [
        "print(nlp.Defaults.stop_words)"
      ],
      "metadata": {
        "colab": {
          "base_uri": "https://localhost:8080/"
        },
        "id": "0KzSbuVxz17b",
        "outputId": "3496df2f-cc21-40f3-f87f-673505750ebd"
      },
      "execution_count": 23,
      "outputs": [
        {
          "output_type": "stream",
          "name": "stdout",
          "text": [
            "{'even', 'sometimes', 'many', 'six', 'mine', 'the', 'against', 'him', 'her', 'you', 'which', 'my', 'every', 'whereafter', 'will', 'please', 'since', 'twelve', 'whereas', 'whom', 'they', 'go', 'top', '’ll', 'thereupon', 'only', 'noone', 'seems', 'that', \"'m\", 'has', 'with', 'whither', 'she', 'those', 'too', 'a', 'unless', 'enough', 'latter', 'under', 'i', \"n't\", 'already', 'often', 'thus', 'bottom', 'empty', 'much', 'around', 'various', \"'d\", 'because', 'whether', 'yourself', 'cannot', 'quite', 'although', 'made', 'seemed', 'we', 'our', 'off', 'one', 'five', 'thru', 'used', 'just', 'else', 'becoming', 'out', 'part', 'whenever', 'beyond', \"'re\", 'nevertheless', 'more', 'amongst', 'everyone', 'whatever', 'back', 'their', 'either', 'his', '’ve', 'fifteen', 'next', 'really', 'never', 'through', 'thereafter', 'amount', 'therein', 'always', 'n’t', 'nobody', 'none', 'least', 'show', 'namely', 'wherein', 'rather', 'of', 'wherever', 'less', 'done', 'must', 'are', 'anyway', 'without', 'nowhere', 'eleven', 'other', 'this', 'mostly', 'hence', \"'ve\", 'becomes', 'after', 'others', 'third', 'call', 'eight', 'should', 'see', 'anywhere', 'then', 'am', 'another', 'perhaps', '‘d', 'alone', 'who', 'it', 'well', 'but', 'hundred', 'still', 'itself', 'somehow', 'doing', 'how', 'in', 'ten', 'some', 'could', 'anything', 'everything', 'from', 'elsewhere', 'does', 'also', 'if', 'were', 'own', 'upon', 'these', 'though', 'thence', 'very', 'nine', 'each', 'ours', 'where', 'being', 'below', 'regarding', 'here', '’d', 'until', 'toward', 'something', 'name', 'towards', 'between', 'during', '’s', 'afterwards', 'by', 'what', 'myself', 'same', 'whence', 'three', 'fifty', 'its', 'would', 'moreover', 'nor', '‘ll', 'is', 'into', '’re', 'and', 'nothing', 'himself', 'when', 'became', 'indeed', 'somewhere', 'have', 'last', 'for', 'than', 'he', 'on', 'otherwise', 'anyone', 'your', 'herself', 'did', 'further', 'front', 'neither', 'us', 'above', \"'s\", 'almost', 'get', 'beforehand', 'now', 'someone', 'up', 'hereafter', 'beside', 'may', 're', 'except', 'themselves', 'via', 'an', 'former', 'along', 'to', 'whereupon', 'however', 'onto', 'among', 'few', '‘ve', 'at', 'keep', 'throughout', 'everywhere', 'not', 'become', 'any', 'herein', 'seem', 'as', 'them', 'so', 'no', 'both', 'whose', 'can', 'besides', 'within', 'thereby', 'hers', 'several', 'there', 'sometime', 'twenty', 'ourselves', 'give', 'four', 'behind', 'meanwhile', 'say', 'or', 'across', 'two', 'why', 'down', 'whereby', 'before', 'do', 'been', 'sixty', 'move', 'full', 'asdf', 'due', 'hereupon', 'yet', 'therefore', '‘m', 'ever', 'over', 'whoever', 'hereby', 'had', 'whole', 'together', '’m', 'ca', 'most', 'take', 'again', 'side', 'make', 'me', 'all', 'once', 'put', '‘re', 'formerly', 'n‘t', 'anyhow', 'while', 'be', 'first', 'latterly', 'yourselves', 'using', 'might', 'serious', 'about', 'seeming', 'per', 'forty', '‘s', 'such', 'yours', \"'ll\", 'was'}\n"
          ]
        }
      ]
    },
    {
      "cell_type": "code",
      "source": [
        "nlp.vocab['no'].is_stop = False"
      ],
      "metadata": {
        "id": "S1AT54lez75b"
      },
      "execution_count": 24,
      "outputs": []
    },
    {
      "cell_type": "code",
      "source": [
        "print(nlp.Defaults.stop_words)"
      ],
      "metadata": {
        "colab": {
          "base_uri": "https://localhost:8080/"
        },
        "id": "Ssh0d2-s0DKi",
        "outputId": "684490ae-0030-4293-e89c-53a61394e340"
      },
      "execution_count": 25,
      "outputs": [
        {
          "output_type": "stream",
          "name": "stdout",
          "text": [
            "{'even', 'sometimes', 'many', 'six', 'mine', 'the', 'against', 'him', 'her', 'you', 'which', 'my', 'every', 'whereafter', 'will', 'please', 'since', 'twelve', 'whereas', 'whom', 'they', 'go', 'top', '’ll', 'thereupon', 'only', 'noone', 'seems', 'that', \"'m\", 'has', 'with', 'whither', 'she', 'those', 'too', 'a', 'unless', 'enough', 'latter', 'under', 'i', \"n't\", 'already', 'often', 'thus', 'bottom', 'empty', 'much', 'around', 'various', \"'d\", 'because', 'whether', 'yourself', 'cannot', 'quite', 'although', 'made', 'seemed', 'we', 'our', 'off', 'one', 'five', 'thru', 'used', 'just', 'else', 'becoming', 'out', 'part', 'whenever', 'beyond', \"'re\", 'nevertheless', 'more', 'amongst', 'everyone', 'whatever', 'back', 'their', 'either', 'his', '’ve', 'fifteen', 'next', 'really', 'never', 'through', 'thereafter', 'amount', 'therein', 'always', 'n’t', 'nobody', 'none', 'least', 'show', 'namely', 'wherein', 'rather', 'of', 'wherever', 'less', 'done', 'must', 'are', 'anyway', 'without', 'nowhere', 'eleven', 'other', 'this', 'mostly', 'hence', \"'ve\", 'becomes', 'after', 'others', 'third', 'call', 'eight', 'should', 'see', 'anywhere', 'then', 'am', 'another', 'perhaps', '‘d', 'alone', 'who', 'it', 'well', 'but', 'hundred', 'still', 'itself', 'somehow', 'doing', 'how', 'in', 'ten', 'some', 'could', 'anything', 'everything', 'from', 'elsewhere', 'does', 'also', 'if', 'were', 'own', 'upon', 'these', 'though', 'thence', 'very', 'nine', 'each', 'ours', 'where', 'being', 'below', 'regarding', 'here', '’d', 'until', 'toward', 'something', 'name', 'towards', 'between', 'during', '’s', 'afterwards', 'by', 'what', 'myself', 'same', 'whence', 'three', 'fifty', 'its', 'would', 'moreover', 'nor', '‘ll', 'is', 'into', '’re', 'and', 'nothing', 'himself', 'when', 'became', 'indeed', 'somewhere', 'have', 'last', 'for', 'than', 'he', 'on', 'otherwise', 'anyone', 'your', 'herself', 'did', 'further', 'front', 'neither', 'us', 'above', \"'s\", 'almost', 'get', 'beforehand', 'now', 'someone', 'up', 'hereafter', 'beside', 'may', 're', 'except', 'themselves', 'via', 'an', 'former', 'along', 'to', 'whereupon', 'however', 'onto', 'among', 'few', '‘ve', 'at', 'keep', 'throughout', 'everywhere', 'not', 'become', 'any', 'herein', 'seem', 'as', 'them', 'so', 'no', 'both', 'whose', 'can', 'besides', 'within', 'thereby', 'hers', 'several', 'there', 'sometime', 'twenty', 'ourselves', 'give', 'four', 'behind', 'meanwhile', 'say', 'or', 'across', 'two', 'why', 'down', 'whereby', 'before', 'do', 'been', 'sixty', 'move', 'full', 'asdf', 'due', 'hereupon', 'yet', 'therefore', '‘m', 'ever', 'over', 'whoever', 'hereby', 'had', 'whole', 'together', '’m', 'ca', 'most', 'take', 'again', 'side', 'make', 'me', 'all', 'once', 'put', '‘re', 'formerly', 'n‘t', 'anyhow', 'while', 'be', 'first', 'latterly', 'yourselves', 'using', 'might', 'serious', 'about', 'seeming', 'per', 'forty', '‘s', 'such', 'yours', \"'ll\", 'was'}\n"
          ]
        }
      ]
    },
    {
      "cell_type": "code",
      "source": [],
      "metadata": {
        "id": "VBQzKgMs1Nam"
      },
      "execution_count": null,
      "outputs": []
    }
  ]
}